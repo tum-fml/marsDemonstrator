{
 "cells": [
  {
   "cell_type": "code",
   "execution_count": 2,
   "metadata": {},
   "outputs": [],
   "source": [
    "# import designMethods.en_13001_3_3 as en\n",
    "# from output import create_output_file\n",
    "from IPython.display import display, FileLink\n",
    "import ipywidgets as widgets\n",
    "import pathlib\n",
    "import os\n",
    "import itertools\n",
    "from marsDemonstrator import Main_application"
   ]
  },
  {
   "cell_type": "code",
   "execution_count": 4,
   "metadata": {},
   "outputs": [],
   "source": [
    "# !pip install voila\n",
    "# !jupyter serverextension enable voila --sys-prefix"
   ]
  },
  {
   "cell_type": "code",
   "execution_count": 6,
   "metadata": {},
   "outputs": [],
   "source": [
    "# en_13001 = {}\n",
    "# gen_vars = {\"num_run\": 1, \"input_file\": None, \"output_file\": None}\n",
    "# direction = 1\n",
    "en_13001 = Main_application()\n"
   ]
  },
  {
   "cell_type": "code",
   "execution_count": 8,
   "metadata": {},
   "outputs": [],
   "source": [
    "def read_file(input_file):\n",
    "    en_13001[\"input\"].load_gp_input(input_file, \"configuration\")\n",
    "\n",
    "    # load material and en 13001 parameters\n",
    "    en_13001[\"input\"].load_material_input_check(input_file, \"rail_materials\", \"wheel_materials\")\n",
    "    en_13001[\"input\"].load_parameter_input(input_file, \"Input_variables\")\n",
    "\n",
    "    # check for input errors and drop faulty configurations\n",
    "    en_13001[\"input\"].perform_error_checks()\n",
    "    en_13001[\"input\"].drop_error_configs()\n",
    "\n",
    "    # precompute factors and material parameters\n",
    "    en_13001[\"input\"].parameters.compute_f_f3()\n",
    "    en_13001[\"input\"].parameters.compute_contact_and_f_1()\n",
    "    en_13001[\"input\"].set_materials_and_geometry()"
   ]
  },
  {
   "cell_type": "code",
   "execution_count": 10,
   "metadata": {
    "code_folding": []
   },
   "outputs": [],
   "source": [
    "def init_gps(change):\n",
    "    msg_box.value = \"Initializing GPs: this may take up to 30 seconds\"\n",
    "    en_13001.input.config = drop_config.value\n",
    "    try:\n",
    "        en_13001.init_gps()\n",
    "    except Exception as e:\n",
    "        msg_box.value(e)\n",
    "    en_13001.config_loaded = True\n",
    "    # # initialize prediction class\n",
    "    # en_13001[\"computed\"] = en.Computed_data()\n",
    "\n",
    "    # # get current config (1 mast or 2 mast)\n",
    "    # en_13001[\"input\"].config = drop_config.value\n",
    "\n",
    "    # # 1 mast configs have to sub configs: cg on the left (direction = 1) or right (direction = -1)\n",
    "    # gp_configs = {\"m1\": {1: \"m1l\", -1: \"m1r\"}, \"m2\": {1: \"m2\"}}\n",
    "    # gp_config = gp_configs[en_13001[\"input\"].config][direction]\n",
    "\n",
    "    # # parts = [\"wf\", \"wr\", \"r\"]\n",
    "    # # en_13001[\"computed\"].get_gps_kc(gp_config, parts)\n",
    "\n",
    "    # en_13001[\"computed\"].load_gps(gp_config)\n",
    "    # en_13001[\"input\"].config_loaded = True\n",
    "    msg_box.value = \"Initialized GPs\""
   ]
  },
  {
   "cell_type": "code",
   "execution_count": 12,
   "metadata": {
    "code_folding": []
   },
   "outputs": [],
   "source": [
    "def start_computation(change):\n",
    "\n",
    "    # if there were never inputs loaded throw error message \n",
    "    if en_13001.input_file_loaded is None:\n",
    "        if uploader._counter == 0:\n",
    "            msg_box.value = \"Please upload an excel file\"\n",
    "            return\n",
    "    \n",
    "    # if there is a new upload file load its content and do make new computation\n",
    "    if uploader._counter > 0:\n",
    "        # initialize input class\n",
    "        en_13001.input = en.EN_input()\n",
    "\n",
    "        # file to temporarily save input data to\n",
    "        en_13001.input_file_path = \"input.xlsx\"\n",
    "        with open(en_13001.input_file_path, \"w+b\") as i:\n",
    "            i.write(uploader.data[-1])\n",
    "\n",
    "        # read temp file and delete after\n",
    "\n",
    "        en_13001.read_file(en_13001.input_file_path)\n",
    "        os.remove(en_13001.input_file_path)\n",
    "\n",
    "        # reset uploader after reading file\n",
    "        uploader.value.clear()\n",
    "        uploader._counter = 0\n",
    "        \n",
    "        # if gps for configuration were not loaded yet load them\n",
    "        if en_13001.input_file_loaded is None:\n",
    "            en_13001.init_gps()\n",
    "        msg_box.value = \"Start Computation\"\n",
    "\n",
    "        en_13001.run_computation_and_create_output(1)\n",
    "\n",
    "        # # recompute gp data --> normalization\n",
    "        # en_13001.input.recompute_gp_data(en_13001.inputconfig)\n",
    "\n",
    "        # # make predictions for k_c and travelled distance (needed for i_tot)\n",
    "        # en_13001.prediction.predict_kc(en_13001.input.gp_input.norm)\n",
    "        # en_13001.prediction.compute_F_sd_f_all(en_13001.input.gp_input.raw, en_13001.input.config, direction)\n",
    "        # en_13001.prediction.predict_travelled_dist(en_13001.input.parameters.data)\n",
    "\n",
    "        # # create computation instance and compute all sc configuration\n",
    "        # en_13001.computation = en.Computation(en_13001.input, en_13001.prediction)\n",
    "        # en_13001.computation.compute_pre_F_rd_all()\n",
    "        # en_13001.computation.compute_F_rd_all()\n",
    "        # en_13001.computation.compute_proofs_all()\n",
    "\n",
    "        # # create result table\n",
    "        # en_13001.input.prepare_for_output()\n",
    "        # en_13001.computation.load_results_all()\n",
    "\n",
    "    msg_box.value = \"Finished computation\"\n",
    "\n",
    "    # create output file\n",
    "    # gen_vars[\"output_file\"] = \"./output.xlsx\"\n",
    "    # create_output_file(en_13001[\"computation\"], en_13001[\"input\"], gen_vars[\"output_file\"])\n",
    "    local_file = FileLink(en_13001.outname, result_html_prefix=\"Click here to download results: \")\n",
    "\n",
    "    # display output file and write errors to output if there are any\n",
    "    out_file.clear_output()\n",
    "    out_errors.clear_output()\n",
    "    with out_file:\n",
    "        display(local_file)\n",
    "        display(btn_delete_output)\n",
    "    with out_errors:\n",
    "        for error in list(itertools.chain(*en_13001[\"input\"].error_report)):\n",
    "            print(error)"
   ]
  },
  {
   "cell_type": "code",
   "execution_count": 14,
   "metadata": {},
   "outputs": [],
   "source": [
    "def delete_output_file(change):\n",
    "    os.remove(gen_vars[\"output_file\"])\n",
    "    out_file.clear_output()"
   ]
  },
  {
   "cell_type": "code",
   "execution_count": 16,
   "metadata": {},
   "outputs": [],
   "source": [
    "## Create widtges\n",
    "# uploader for input\n",
    "uploader = widgets.FileUpload(accept=\".xlsx\", multiple=False)\n",
    "\n",
    "# dropdown for computation mode\n",
    "drop_mode = widgets.Dropdown(description=\"Computation Mode\", options=[\"proof\", \"min_diameter\"], value=\"proof\")\n",
    "\n",
    "# dropdown for configuration\n",
    "drop_config = widgets.Dropdown(description=\"SC Configuration\", options=[\"m1\", \"m2\"], value=\"m1\")\n",
    "\n",
    "# button for updating configuration\n",
    "btn_update_config = widgets.Button(description=\"Update Configuration\")\n",
    "btn_update_config.on_click(init_gps)\n",
    "\n",
    "# button to start computation\n",
    "btn_start = widgets.Button(description=\"Start computation\")\n",
    "btn_start.on_click(start_computation)\n",
    "\n",
    "# output widget to display output file\n",
    "out_file = widgets.Output()\n",
    "\n",
    "# output widget to write error reports\n",
    "out_errors = widgets.Output()\n",
    "\n",
    "# message box for information on computation process\n",
    "msg_box = widgets.Text(value=\"\", description=\"Message Box\")\n",
    "\n",
    "# button to delete output file from server\n",
    "btn_delete_output = widgets.Button(description=\"Delete Resultfile\")\n",
    "btn_delete_output.on_click(delete_output_file)"
   ]
  },
  {
   "cell_type": "code",
   "execution_count": 18,
   "metadata": {
    "scrolled": false
   },
   "outputs": [
    {
     "output_type": "display_data",
     "data": {
      "text/plain": "VBox(children=(Label(value='MARS Demonstrator'), Dropdown(description='Computation Mode', options=('proof', 'm…",
      "application/vnd.jupyter.widget-view+json": {
       "version_major": 2,
       "version_minor": 0,
       "model_id": "08b7e72e460e45a08e3bdd257f502d52"
      }
     },
     "metadata": {}
    }
   ],
   "source": [
    "## Build gui\n",
    "widgets.VBox([widgets.Label(\"MARS Demonstrator\"),\n",
    "              drop_mode, drop_config, btn_update_config, uploader, msg_box, btn_start, out_file, out_errors])"
   ]
  },
  {
   "cell_type": "code",
   "execution_count": 20,
   "metadata": {},
   "outputs": [],
   "source": [
    "# en_13001.init_gps()"
   ]
  },
  {
   "cell_type": "code",
   "execution_count": 22,
   "metadata": {},
   "outputs": [],
   "source": [
    "en_13001.input.config"
   ]
  },
  {
   "cell_type": "code",
   "execution_count": null,
   "metadata": {},
   "outputs": [],
   "source": []
  }
 ],
 "metadata": {
  "kernelspec": {
   "display_name": "Python 3",
   "language": "python",
   "name": "python3"
  },
  "language_info": {
   "codemirror_mode": {
    "name": "ipython",
    "version": 3
   },
   "file_extension": ".py",
   "mimetype": "text/x-python",
   "name": "python",
   "nbconvert_exporter": "python",
   "pygments_lexer": "ipython3",
   "version": "3.6.12-final"
  }
 },
 "nbformat": 4,
 "nbformat_minor": 2
}