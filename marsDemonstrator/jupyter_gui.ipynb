{
 "cells": [
  {
   "cell_type": "code",
   "execution_count": 1,
   "metadata": {},
   "outputs": [],
   "source": [
    "import designMethods.en_13001_3_3 as en\n",
    "from output import create_output_file\n",
    "import ipywidgets as widgets\n",
    "from ipyfilechooser import FileChooser\n",
    "import pathlib"
   ]
  },
  {
   "cell_type": "code",
   "execution_count": 2,
   "metadata": {},
   "outputs": [],
   "source": [
    "# !pip install voila\n",
    "# !jupyter serverextension enable voila --sys-prefix"
   ]
  },
  {
   "cell_type": "code",
   "execution_count": 3,
   "metadata": {},
   "outputs": [],
   "source": [
    "en_13001_input = en.EN_input()\n",
    "en_13001_computed = en.Computed_data()\n",
    "gen_vars = {\"num_run\": 1}\n",
    "direction = 1"
   ]
  },
  {
   "cell_type": "code",
   "execution_count": 4,
   "metadata": {},
   "outputs": [],
   "source": [
    "def read_file():\n",
    "    en_13001_input.load_gp_input(fc.selected, \"configuration\")\n",
    "\n",
    "    # load material and en 13001 parameters\n",
    "    en_13001_input.load_material_input_check(fc.selected, \"rail_materials\", \"wheel_materials\")\n",
    "    en_13001_input.load_parameter_input(fc.selected, \"Input_variables\")\n",
    "\n",
    "    # check for input errors and drop faulty configurations\n",
    "    en_13001_input.perform_error_checks()\n",
    "    en_13001_input.drop_error_configs()\n",
    "\n",
    "    # precompute factors and material parameters\n",
    "    en_13001_input.parameters.compute_f_f3()\n",
    "    en_13001_input.parameters.compute_contact_and_f_1()\n",
    "    en_13001_input.set_materials_and_geometry()"
   ]
  },
  {
   "cell_type": "code",
   "execution_count": 5,
   "metadata": {},
   "outputs": [],
   "source": [
    "def init_gps(change):\n",
    "    en_13001_input.config = config_dropdown.value\n",
    "    gp_configs = {\"m1\": {1: \"m1l\", -1: \"m1r\"}, \"m2\": {1: \"m2\"}}\n",
    "    gp_config = gp_configs[en_13001_input.config][direction]\n",
    "    parts = [\"wf\", \"wr\", \"r\"]\n",
    "    en_13001_computed.get_gps_kc(gp_config, parts)\n",
    "    en_13001_input.config_loaded = True\n",
    "    msg_box.value = \"Initialized GPs\""
   ]
  },
  {
   "cell_type": "code",
   "execution_count": 6,
   "metadata": {},
   "outputs": [],
   "source": [
    "def start_computation(change):\n",
    "    if en_13001_input.parameters.loaded is None:\n",
    "        msg_box.value = \"Please upload an excel file\"\n",
    "        return\n",
    "\n",
    "    if en_13001_input.config_loaded is None:\n",
    "        init_gps(None)\n",
    "    msg_box.value = \"Start Computation\"\n",
    "    en_13001_input.recompute_gp_data(en_13001_input.config)\n",
    "    en_13001_computed.predict_kc(en_13001_input.gp_input.norm)\n",
    "    en_13001_computed.compute_F_sd_f_all(en_13001_input.gp_input.raw, en_13001_input.config, direction)\n",
    "    en_13001_computed.predict_travelled_dist(en_13001_input.parameters.data)\n",
    "\n",
    "    # create computation instance and compute configs\n",
    "    en_computation = en.Computation(en_13001_input, en_13001_computed)\n",
    "    en_computation.compute_pre_F_rd_all()\n",
    "    en_computation.compute_F_rd_all()\n",
    "    en_computation.compute_proofs_all()\n",
    "\n",
    "    # reults output\n",
    "    en_13001_input.prepare_for_output()\n",
    "    en_computation.load_results_all()\n",
    "    msg_box.value = \"Done\"\n",
    "    gen_vars[\"outname\"] = pathlib.Path(fc.selected_path) / f\"output_no{gen_vars['num_run']}.xlsx\"\n",
    "    create_output_file(en_computation, en_13001_input, gen_vars[\"outname\"])\n",
    "    msg_box.value = f\"Generated output file: output_no{gen_vars['num_run']}.xlsx\"\n"
   ]
  },
  {
   "cell_type": "code",
   "execution_count": 7,
   "metadata": {},
   "outputs": [],
   "source": [
    "fc = FileChooser()\n",
    "fc.register_callback(read_file)\n",
    "mode_dropdown = widgets.Dropdown(description=\"Computation Mode\", options=[\"proof\", \"min_diameter\"], value=\"proof\")\n",
    "config_dropdown = widgets.Dropdown(description=\"SC Configuration\", options=[\"m1\", \"m2\"], value=\"m1\")\n",
    "config_button = widgets.Button(description=\"Update Configuration\")\n",
    "config_button.on_click(init_gps)\n",
    "start_button = widgets.Button(description=\"Start computation\")\n",
    "start_button.on_click(start_computation)\n",
    "\n",
    "msg_box = widgets.Text(value=\"\", description=\"Message Box\")"
   ]
  },
  {
   "cell_type": "code",
   "execution_count": 8,
   "metadata": {},
   "outputs": [
    {
     "data": {
      "application/vnd.jupyter.widget-view+json": {
       "model_id": "35ab5049e5614fdbacd2534d81e38611",
       "version_major": 2,
       "version_minor": 0
      },
      "text/plain": [
       "Dropdown(description='Computation Mode', options=('proof', 'min_diameter'), value='proof')"
      ]
     },
     "metadata": {},
     "output_type": "display_data"
    },
    {
     "data": {
      "application/vnd.jupyter.widget-view+json": {
       "model_id": "83e217a0df9b4f9ea87a52e9e8ee9b61",
       "version_major": 2,
       "version_minor": 0
      },
      "text/plain": [
       "Dropdown(description='SC Configuration', options=('m1', 'm2'), value='m1')"
      ]
     },
     "metadata": {},
     "output_type": "display_data"
    },
    {
     "data": {
      "application/vnd.jupyter.widget-view+json": {
       "model_id": "7e2054e64c83442c8e2f5598865d388d",
       "version_major": 2,
       "version_minor": 0
      },
      "text/plain": [
       "Button(description='Update Configuration', style=ButtonStyle())"
      ]
     },
     "metadata": {},
     "output_type": "display_data"
    },
    {
     "data": {
      "application/vnd.jupyter.widget-view+json": {
       "model_id": "8bda1dc30ba84723b67f4cc5bc1bb437",
       "version_major": 2,
       "version_minor": 0
      },
      "text/plain": [
       "FileChooser(path='C:\\Dokumente\\MARS\\mars-softwaredemonstrator\\marsDemonstrator', filename='', title='HTML(valu…"
      ]
     },
     "metadata": {},
     "output_type": "display_data"
    },
    {
     "data": {
      "application/vnd.jupyter.widget-view+json": {
       "model_id": "2a59c5f189154706a727a1344cb5c7e0",
       "version_major": 2,
       "version_minor": 0
      },
      "text/plain": [
       "Text(value='', description='Message Box')"
      ]
     },
     "metadata": {},
     "output_type": "display_data"
    },
    {
     "data": {
      "application/vnd.jupyter.widget-view+json": {
       "model_id": "7e6fabcf3d064a29a276b7c1c998969c",
       "version_major": 2,
       "version_minor": 0
      },
      "text/plain": [
       "Button(description='Start computation', style=ButtonStyle())"
      ]
     },
     "metadata": {},
     "output_type": "display_data"
    }
   ],
   "source": [
    "# VBox([widgets.Label(\"MARS Demonstrator\"),\n",
    "#         mode_dropdown, config_dropdown, config_button, fc, msg_box, start_button])\n",
    "\n",
    "display(mode_dropdown)\n",
    "display(config_dropdown)\n",
    "display(config_button)\n",
    "display(fc)\n",
    "display(msg_box)\n",
    "display(start_button)"
   ]
  },
  {
   "cell_type": "code",
   "execution_count": null,
   "metadata": {},
   "outputs": [],
   "source": []
  }
 ],
 "metadata": {
  "kernelspec": {
   "display_name": "Python 3",
   "language": "python",
   "name": "python3"
  },
  "language_info": {
   "codemirror_mode": {
    "name": "ipython",
    "version": 3
   },
   "file_extension": ".py",
   "mimetype": "text/x-python",
   "name": "python",
   "nbconvert_exporter": "python",
   "pygments_lexer": "ipython3",
   "version": "3.6.12"
  }
 },
 "nbformat": 4,
 "nbformat_minor": 2
}
