{
 "cells": [
  {
   "cell_type": "code",
   "execution_count": 1,
   "metadata": {},
   "outputs": [],
   "source": [
    "import designMethods.en_13001_3_3 as en\n",
    "from output import create_output_file\n",
    "from IPython.display import display, FileLink\n",
    "import ipywidgets as widgets\n",
    "import pathlib\n",
    "import os\n",
    "import itertools"
   ]
  },
  {
   "cell_type": "code",
   "execution_count": 2,
   "metadata": {},
   "outputs": [],
   "source": [
    "# !pip install voila\n",
    "# !jupyter serverextension enable voila --sys-prefix"
   ]
  },
  {
   "cell_type": "code",
   "execution_count": 3,
   "metadata": {},
   "outputs": [],
   "source": [
    "en_13001 = {}\n",
    "en_13001[\"input\"] = en.EN_input()\n",
    "en_13001[\"computed\"] = en.Computed_data()\n",
    "gen_vars = {\"num_run\": 1, \"input_file\": None, \"output_file\": None}\n",
    "direction = 1"
   ]
  },
  {
   "cell_type": "code",
   "execution_count": 4,
   "metadata": {},
   "outputs": [],
   "source": [
    "def read_file(input_file):\n",
    "    en_13001[\"input\"].load_gp_input(input_file, \"configuration\")\n",
    "\n",
    "    # load material and en 13001 parameters\n",
    "    en_13001[\"input\"].load_material_input_check(input_file, \"rail_materials\", \"wheel_materials\")\n",
    "    en_13001[\"input\"].load_parameter_input(input_file, \"Input_variables\")\n",
    "\n",
    "    # check for input errors and drop faulty configurations\n",
    "    en_13001[\"input\"].perform_error_checks()\n",
    "    en_13001[\"input\"].drop_error_configs()\n",
    "\n",
    "    # precompute factors and material parameters\n",
    "    en_13001[\"input\"].parameters.compute_f_f3()\n",
    "    en_13001[\"input\"].parameters.compute_contact_and_f_1()\n",
    "    en_13001[\"input\"].set_materials_and_geometry()"
   ]
  },
  {
   "cell_type": "code",
   "execution_count": 5,
   "metadata": {
    "code_folding": []
   },
   "outputs": [],
   "source": [
    "def init_gps(change):\n",
    "    msg_box.value = \"Initializing GPs: this may take up to 30 seconds\"\n",
    "    en_13001[\"input\"].config = drop_config.value\n",
    "    gp_configs = {\"m1\": {1: \"m1l\", -1: \"m1r\"}, \"m2\": {1: \"m2\"}}\n",
    "    gp_config = gp_configs[en_13001[\"input\"].config][direction]\n",
    "    parts = [\"wf\", \"wr\", \"r\"]\n",
    "    en_13001[\"computed\"].get_gps_kc(gp_config, parts)\n",
    "    en_13001[\"input\"].config_loaded = True\n",
    "    msg_box.value = \"Initialized GPs\""
   ]
  },
  {
   "cell_type": "code",
   "execution_count": 6,
   "metadata": {
    "code_folding": []
   },
   "outputs": [],
   "source": [
    "def start_computation(change):\n",
    "    if en_13001[\"input\"].parameters.loaded is None:\n",
    "        if uploader._counter == 0:\n",
    "            msg_box.value = \"Please upload an excel file\"\n",
    "            return\n",
    "    \n",
    "    if uploader._counter > 0:\n",
    "        gen_vars[\"input_file\"] = \"input.xlsx\"\n",
    "        with open(gen_vars[\"input_file\"], \"w+b\") as i:\n",
    "            i.write(uploader.data[-1])\n",
    "        read_file(gen_vars[\"input_file\"])\n",
    "        os.remove(gen_vars[\"input_file\"])\n",
    "        uploader.value.clear()\n",
    "        uploader._counter = 0\n",
    "        \n",
    "        if en_13001[\"input\"].config_loaded is None:\n",
    "            init_gps(None)\n",
    "        msg_box.value = \"Start Computation\"\n",
    "        en_13001[\"input\"].recompute_gp_data(en_13001[\"input\"].config)\n",
    "        en_13001[\"computed\"].predict_kc(en_13001[\"input\"].gp_input.norm)\n",
    "        en_13001[\"computed\"].compute_F_sd_f_all(en_13001[\"input\"].gp_input.raw, en_13001[\"input\"].config, direction)\n",
    "        en_13001[\"computed\"].predict_travelled_dist(en_13001[\"input\"].parameters.data)\n",
    "\n",
    "        # create computation instance and compute configs\n",
    "        en_13001[\"computation\"] = en.Computation(en_13001[\"input\"], en_13001[\"computed\"])\n",
    "        en_13001[\"computation\"].compute_pre_F_rd_all()\n",
    "        en_13001[\"computation\"].compute_F_rd_all()\n",
    "        en_13001[\"computation\"].compute_proofs_all()\n",
    "\n",
    "        # results output\n",
    "        en_13001[\"input\"].prepare_for_output()\n",
    "        en_13001[\"computation\"].load_results_all()\n",
    "    msg_box.value = \"Finished computation\"\n",
    "    gen_vars[\"output_file\"] = \"./output.xlsx\"\n",
    "    create_output_file(en_13001[\"computation\"], en_13001[\"input\"], gen_vars[\"output_file\"])\n",
    "    local_file = FileLink(gen_vars[\"output_file\"], result_html_prefix=\"Click here to download results: \")\n",
    "    out_file.clear_output()\n",
    "    out_errors.clear_output()\n",
    "    with out_file:\n",
    "        display(local_file)\n",
    "        display(btn_delete_output)\n",
    "    with out_errors:\n",
    "        for error in list(itertools.chain(*en_13001[\"input\"].error_report)):\n",
    "            print(error)"
   ]
  },
  {
   "cell_type": "code",
   "execution_count": 7,
   "metadata": {},
   "outputs": [],
   "source": [
    "def delete_output_file(change):\n",
    "    os.remove(gen_vars[\"output_file\"])\n",
    "    out_file.clear_output()"
   ]
  },
  {
   "cell_type": "code",
   "execution_count": 8,
   "metadata": {},
   "outputs": [],
   "source": [
    "uploader = widgets.FileUpload(accept=\".xlsx\", multiple=False)\n",
    "drop_mode = widgets.Dropdown(description=\"Computation Mode\", options=[\"proof\", \"min_diameter\"], value=\"proof\")\n",
    "drop_config = widgets.Dropdown(description=\"SC Configuration\", options=[\"m1\", \"m2\"], value=\"m1\")\n",
    "btn_update_config = widgets.Button(description=\"Update Configuration\")\n",
    "btn_update_config.on_click(init_gps)\n",
    "btn_start = widgets.Button(description=\"Start computation\")\n",
    "btn_start.on_click(start_computation)\n",
    "out_file = widgets.Output()\n",
    "out_errors = widgets.Output()\n",
    "msg_box = widgets.Text(value=\"\", description=\"Message Box\")\n",
    "btn_delete_output = widgets.Button(description=\"Delete Resultfile\")\n",
    "btn_delete_output.on_click(delete_output_file)"
   ]
  },
  {
   "cell_type": "code",
   "execution_count": 9,
   "metadata": {
    "scrolled": false
   },
   "outputs": [
    {
     "data": {
      "application/vnd.jupyter.widget-view+json": {
       "model_id": "87b68c32f21747b3acd00c31519a3973",
       "version_major": 2,
       "version_minor": 0
      },
      "text/plain": [
       "VBox(children=(Label(value='MARS Demonstrator'), Dropdown(description='Computation Mode', options=('proof', 'm…"
      ]
     },
     "metadata": {},
     "output_type": "display_data"
    }
   ],
   "source": [
    "widgets.VBox([widgets.Label(\"MARS Demonstrator\"),\n",
    "              drop_mode, drop_config, btn_update_config, uploader, msg_box, btn_start, out_file, out_errors])"
   ]
  },
  {
   "cell_type": "code",
   "execution_count": null,
   "metadata": {},
   "outputs": [],
   "source": []
  }
 ],
 "metadata": {
  "kernelspec": {
   "display_name": "Python 3",
   "language": "python",
   "name": "python3"
  },
  "language_info": {
   "codemirror_mode": {
    "name": "ipython",
    "version": 3
   },
   "file_extension": ".py",
   "mimetype": "text/x-python",
   "name": "python",
   "nbconvert_exporter": "python",
   "pygments_lexer": "ipython3",
   "version": "3.6.12"
  }
 },
 "nbformat": 4,
 "nbformat_minor": 2
}
