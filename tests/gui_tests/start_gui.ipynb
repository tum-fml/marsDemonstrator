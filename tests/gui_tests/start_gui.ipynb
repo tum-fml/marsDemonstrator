{
 "cells": [
  {
   "cell_type": "markdown",
   "metadata": {
    "code_folding": []
   },
   "source": [
    "## MARS Demonstrator"
   ]
  },
  {
   "cell_type": "code",
   "execution_count": 1,
   "metadata": {},
   "outputs": [
    {
     "data": {
      "text/html": [
       "Click here to download example input file: <a href='./tests/input_file/inputparameters.xlsx' target='_blank'>./tests/input_file/inputparameters.xlsx</a><br>"
      ],
      "text/plain": [
       "C:\\Dokumente\\MARS\\mars-softwaredemonstrator\\tests\\input_file\\inputparameters.xlsx"
      ]
     },
     "metadata": {},
     "output_type": "display_data"
    },
    {
     "data": {
      "application/vnd.jupyter.widget-view+json": {
       "model_id": "4c64f7bc17e5423288c512fe1742294f",
       "version_major": 2,
       "version_minor": 0
      },
      "text/plain": [
       "VBox(children=(HBox(children=(Label(value='SC Configuration:  '), Dropdown(options=('1 Mast', '2 Masts'), valu…"
      ]
     },
     "metadata": {},
     "output_type": "display_data"
    }
   ],
   "source": [
    "#hide\n",
    "from marsDemonstrator.gui.jupyter_gui import MARSGui\n",
    "\n",
    "gui = MARSGui()\n",
    "gui.show()"
   ]
  },
  {
   "cell_type": "markdown",
   "metadata": {},
   "source": [
    "\n",
    "\n",
    "\n",
    "\n",
    "## Basic instructions\n",
    "\n",
    "1. If you don't have the input file yet, you can download it from the link above\n",
    "2. Set parameter configurations in input file\n",
    "3. Upload file\n",
    "4. Start computation\n",
    "5. Download results\n",
    "6. If you want to change the SC configuration click \"Update Configuration\"\n",
    "7. Possible input errors will be displayed\n",
    "\n",
    "## Result file structure\n",
    "\n",
    "The result file will have two sheets:\n",
    "\n",
    "- Summary\n",
    "- Results\n",
    "\n",
    "### 1. Summary\n",
    "\n",
    "- Results of static and fatigue proof for both wheels and rail (True = Fulfilled, False = Not fulfilled)\n",
    "- Input data of each configuration\n",
    "\n",
    "### 2. Results\n",
    "- Detailed results of static and fatigue proof for both wheels and rail\n",
    "- Input data for each configuration\n",
    "\n",
    "### Note: Proof of fatigue strength\n",
    "\n",
    "When predicting the contact force spectrum factor k<sub>c</sub> MARS also computes the upper bound of the confidence interval, labelled, for the prediction which is labelled \"upper\". If this upper bound differs a lot from the prediction, this means that the model is uncertain about the prediction. All values computed from k<sub>c</sub> will have a result labelled \"prediction\" and a result labelled \"upper\". These values are:\n",
    "- The contact force history parameter s<sub>c</sub>\n",
    "- The limit force for fatigue strength F<sub>rd,f</sub>\n",
    "- The proof of fatigue strength's result\n",
    "\n",
    "\n"
   ]
  }
 ],
 "metadata": {
  "kernelspec": {
   "display_name": "Python 3",
   "language": "python",
   "name": "python3"
  },
  "language_info": {
   "codemirror_mode": {
    "name": "ipython",
    "version": 3
   },
   "file_extension": ".py",
   "mimetype": "text/x-python",
   "name": "python",
   "nbconvert_exporter": "python",
   "pygments_lexer": "ipython3",
   "version": "3.6.12"
  }
 },
 "nbformat": 4,
 "nbformat_minor": 2
}