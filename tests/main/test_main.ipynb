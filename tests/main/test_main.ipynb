{
 "metadata": {
  "language_info": {
   "codemirror_mode": {
    "name": "ipython",
    "version": 3
   },
   "file_extension": ".py",
   "mimetype": "text/x-python",
   "name": "python",
   "nbconvert_exporter": "python",
   "pygments_lexer": "ipython3",
   "version": "3.6.12-final"
  },
  "orig_nbformat": 2,
  "kernelspec": {
   "name": "python3",
   "display_name": "Python 3.6.12 64-bit ('mars': conda)",
   "metadata": {
    "interpreter": {
     "hash": "cf74a30ca95ae3973f31b0e020e5859ae95074b59c2b5daa7dd03ee87f37c72e"
    }
   }
  }
 },
 "nbformat": 4,
 "nbformat_minor": 2,
 "cells": [
  {
   "cell_type": "code",
   "execution_count": 1,
   "metadata": {},
   "outputs": [],
   "source": [
    "import itertools\n",
    "import os\n",
    "import pathlib\n",
    "\n",
    "from marsDemonstrator.main_app import MainApplication"
   ]
  },
  {
   "cell_type": "code",
   "execution_count": 3,
   "metadata": {},
   "outputs": [],
   "source": [
    "# read input file\n",
    "main_application = MainApplication()\n",
    "main_application.input_file_path = pathlib.Path.cwd().parent / \"input_file\" / \"inputparameters.xlsx\"\n",
    "main_application.read_input_file(main_application.input_file_path)\n",
    "\n",
    "# set a result file\n",
    "main_application.outname = pathlib.Path.cwd().parent / \"test_output\" / \"result.xlsx\"\n",
    "\n",
    "# set configuration [\"m1\", \"m2\"]\n",
    "main_application.config = \"m1\"\n",
    "\n",
    "# set direction in which sc is goint (1: right, -1: left)\n",
    "main_application.sc_direction = 1\n",
    "\n",
    "# for two mast there is only direction right\n",
    "if main_application.input.config == \"m2\":\n",
    "    main_application.sc_direction = 1\n",
    "\n",
    "# initialize gaussian processes\n",
    "main_application.init_gps()"
   ]
  },
  {
   "cell_type": "code",
   "execution_count": 5,
   "metadata": {},
   "outputs": [],
   "source": [
    "# computation mode 1\n",
    "\n",
    "# run computation\n",
    "main_application.computation_mode_1()\n",
    "\n",
    "# print errors\n",
    "for error in list(itertools.chain(*main_application.input.error_report)):\n",
    "    print(error)"
   ]
  },
  {
   "cell_type": "code",
   "execution_count": null,
   "metadata": {},
   "outputs": [],
   "source": [
    "# computation mode 2\n",
    "\n",
    "# run computation\n",
    "main_application.computation_mode_2()\n",
    "\n",
    "# print errors\n",
    "for error in list(itertools.chain(*main_application.input.error_report)):\n",
    "    print(error)"
   ]
  }
 ]
}