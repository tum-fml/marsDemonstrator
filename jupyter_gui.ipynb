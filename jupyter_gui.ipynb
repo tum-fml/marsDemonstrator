{
 "cells": [
  {
   "cell_type": "code",
   "execution_count": 1,
   "metadata": {},
   "outputs": [],
   "source": [
    "# import designMethods.en_13001_3_3 as en\n",
    "# from output import create_output_file\n",
    "from IPython.display import display, FileLink\n",
    "import ipywidgets as widgets\n",
    "import pathlib\n",
    "import os\n",
    "import itertools\n",
    "from marsDemonstrator.gui.main_functions import Main_application"
   ]
  },
  {
   "cell_type": "code",
   "execution_count": 2,
   "metadata": {},
   "outputs": [],
   "source": [
    "# !pip install voila\n",
    "# !jupyter serverextension enable voila --sys-prefix"
   ]
  },
  {
   "cell_type": "code",
   "execution_count": 3,
   "metadata": {},
   "outputs": [],
   "source": [
    "en_13001 = Main_application()"
   ]
  },
  {
   "cell_type": "code",
   "execution_count": 4,
   "metadata": {
    "code_folding": []
   },
   "outputs": [],
   "source": [
    "def init_gps(change):\n",
    "    msg_box.value = \"Initializing GPs: this may take up to 30 seconds\"\n",
    "\n",
    "    # initialize prediction class\n",
    "    # en_13001.computed = en.Computed_data()\n",
    "\n",
    "    # get current config (1 mast or 2 mast)\n",
    "    en_13001.input.config = drop_config.value\n",
    "\n",
    "    en_13001.init_gps()\n",
    "\n",
    "    # en_13001[\"input\"].config_loaded = True\n",
    "    # en_13001.input.config_loaded = True\n",
    "    msg_box.value = \"Initialized GPs\""
   ]
  },
  {
   "cell_type": "code",
   "execution_count": 5,
   "metadata": {
    "code_folding": []
   },
   "outputs": [],
   "source": [
    "def start_computation(change):\n",
    "\n",
    "    # if there were never inputs loaded throw error message \n",
    "    if en_13001.input_file_loaded is None:\n",
    "        if uploader._counter == 0:\n",
    "            msg_box.value = \"Please upload an excel file\"\n",
    "            return\n",
    "    \n",
    "    # if there is a new upload file load its content and do make new computation\n",
    "    if uploader._counter > 0:\n",
    "        # initialize input class\n",
    "        # en_13001.input = en.EN_input()\n",
    "\n",
    "        # file to temporarily save input data to\n",
    "        en_13001.input_file_path = pathlib.Path(\"./input.xlsx\")\n",
    "        with open(en_13001.input_file_path, \"w+b\") as i:\n",
    "            i.write(uploader.data[-1])\n",
    "\n",
    "        # read temp file and delete after\n",
    "        fatal_error = en_13001.read_input_file(en_13001.input_file_path)\n",
    "\n",
    "        if fatal_error:\n",
    "            out_errors.clear_output()\n",
    "            with out_errors:\n",
    "                print(\"Fatal error in input file\")\n",
    "                print(fatal_error)\n",
    "            uploader._counter = 0\n",
    "            return\n",
    "\n",
    "        os.remove(en_13001.input_file_path)\n",
    "\n",
    "        # reset uploader after reading file\n",
    "        uploader.value.clear()\n",
    "        uploader._counter = 0\n",
    "        \n",
    "        # if gps for configuration were not loaded yet load them\n",
    "        if en_13001.config_loaded is None:\n",
    "            init_gps(None)\n",
    "        msg_box.value = \"Start Computation\"\n",
    "\n",
    "        en_13001.run_computation_and_create_output(1)\n",
    "\n",
    "    msg_box.value = \"Finished computation\"\n",
    "\n",
    "    # create output file\n",
    "    local_file = FileLink(f\"./{en_13001.outname.name}\", result_html_prefix=\"Click here to download results: \")\n",
    "\n",
    "    # display output file and write errors to output if there are any\n",
    "    out_file.clear_output()\n",
    "    out_errors.clear_output()\n",
    "    with out_file:\n",
    "        display(local_file)\n",
    "        # display(btn_delete_output)\n",
    "    write_error_reports(en_13001)"
   ]
  },
  {
   "cell_type": "code",
   "execution_count": 6,
   "metadata": {},
   "outputs": [],
   "source": [
    "def write_error_reports(en_13001):\n",
    "    with out_errors:\n",
    "        for error in list(itertools.chain(*en_13001.input.error_report)):\n",
    "            print(error)"
   ]
  },
  {
   "cell_type": "code",
   "execution_count": 7,
   "metadata": {},
   "outputs": [],
   "source": [
    "# def delete_output_file(change):\n",
    "#     os.remove(gen_vars[\"output_file\"])\n",
    "#     out_file.clear_output()"
   ]
  },
  {
   "cell_type": "code",
   "execution_count": 8,
   "metadata": {},
   "outputs": [],
   "source": [
    "## Create widtges\n",
    "# download link for input file\n",
    "input_file = FileLink(\"./tests/input_file/inputparameters.xlsx\", result_html_prefix=\"Click here to download example input file: \")\n",
    "\n",
    "# uploader for input\n",
    "uploader_label = widgets.Label(\"Upload input file:  \")\n",
    "uploader = widgets.FileUpload(accept=\".xlsx\", multiple=False)\n",
    "uploader_box = widgets.HBox([uploader_label, uploader])\n",
    "\n",
    "# dropdown for computation mode\n",
    "label_mode = widgets.Label(\"Computation Mode:  \")\n",
    "drop_mode = widgets.Dropdown(options=[\"proof\", \"min_diameter\"], value=\"proof\")\n",
    "mode_box = widgets.HBox([label_mode, drop_mode])\n",
    "\n",
    "# dropdown for configuration\n",
    "label_config = widgets.Label(\"SC Configuration: (m1: 1 Mast, m2: 2 Mast)  \")\n",
    "drop_config = widgets.Dropdown(options=[\"m1\", \"m2\"], value=\"m1\")\n",
    "\n",
    "\n",
    "# button for updating configuration\n",
    "btn_update_config = widgets.Button(description=\"Update Configuration\")\n",
    "btn_update_config.on_click(init_gps)\n",
    "config_box = widgets.HBox([label_config, drop_config, btn_update_config])\n",
    "\n",
    "# button to start computation\n",
    "btn_start = widgets.Button(description=\"Start computation\")\n",
    "btn_start.on_click(start_computation)\n",
    "\n",
    "# output widget to display output file\n",
    "out_file = widgets.Output()\n",
    "\n",
    "# output widget to write error reports\n",
    "out_errors = widgets.Output()\n",
    "\n",
    "# message box for information on computation process\n",
    "label_msg = widgets.Label(\"Message Box:   \")\n",
    "msg_box = widgets.Text(value=\"\")\n",
    "msg_box_box = widgets.HBox([label_msg, msg_box])\n",
    "\n",
    "# button to delete output file from server\n",
    "# btn_delete_output = widgets.Button(description=\"Delete Resultfile\")\n",
    "# btn_delete_output.on_click(delete_output_file)"
   ]
  },
  {
   "cell_type": "code",
   "execution_count": 9,
   "metadata": {
    "scrolled": false
   },
   "outputs": [
    {
     "data": {
      "application/vnd.jupyter.widget-view+json": {
       "model_id": "5a39770ba27c4d5598a37f864920d944",
       "version_major": 2,
       "version_minor": 0
      },
      "text/plain": [
       "Label(value='MARS Demonstrator')"
      ]
     },
     "metadata": {},
     "output_type": "display_data"
    },
    {
     "data": {
      "text/html": [
       "Click here to download example input file: <a href='./tests/input_file/inputparameters.xlsx' target='_blank'>./tests/input_file/inputparameters.xlsx</a><br>"
      ],
      "text/plain": [
       "C:\\Dokumente\\MARS\\mars-softwaredemonstrator\\tests\\input_file\\inputparameters.xlsx"
      ]
     },
     "metadata": {},
     "output_type": "display_data"
    },
    {
     "data": {
      "application/vnd.jupyter.widget-view+json": {
       "model_id": "6becd2019790478e89635a7cb1158ec1",
       "version_major": 2,
       "version_minor": 0
      },
      "text/plain": [
       "VBox(children=(HBox(children=(Label(value='SC Configuration: (m1: 1 Mast, m2: 2 Mast)  '), Dropdown(options=('…"
      ]
     },
     "metadata": {},
     "output_type": "display_data"
    }
   ],
   "source": [
    "## Build gui\n",
    "display(widgets.Label(\"MARS Demonstrator\"))\n",
    "display(input_file)\n",
    "widgets.VBox([config_box, uploader_box, msg_box_box, btn_start, out_file, out_errors])"
   ]
  },
  {
   "cell_type": "code",
   "execution_count": null,
   "metadata": {},
   "outputs": [],
   "source": []
  },
  {
   "cell_type": "code",
   "execution_count": null,
   "metadata": {},
   "outputs": [],
   "source": []
  }
 ],
 "metadata": {
  "kernelspec": {
   "display_name": "Python 3",
   "language": "python",
   "name": "python3"
  },
  "language_info": {
   "codemirror_mode": {
    "name": "ipython",
    "version": 3
   },
   "file_extension": ".py",
   "mimetype": "text/x-python",
   "name": "python",
   "nbconvert_exporter": "python",
   "pygments_lexer": "ipython3",
   "version": "3.6.12"
  }
 },
 "nbformat": 4,
 "nbformat_minor": 2
}
